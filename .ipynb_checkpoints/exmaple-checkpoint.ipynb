{
 "cells": [
  {
   "cell_type": "code",
   "execution_count": 1,
   "id": "88a0a84b-f9c2-4776-86d6-36479366d4cc",
   "metadata": {},
   "outputs": [],
   "source": [
    "from config import *\n",
    "from template import *"
   ]
  },
  {
   "cell_type": "code",
   "execution_count": null,
   "id": "8190d992-509e-4881-978c-bc197569a472",
   "metadata": {},
   "outputs": [],
   "source": [
    "# InvFact\n",
    "# https://math.stackexchange.com/questions/2078997/inverse-of-a-factorial"
   ]
  },
  {
   "cell_type": "code",
   "execution_count": 10,
   "id": "c60cc087-a172-49fe-b416-fc5798f34305",
   "metadata": {},
   "outputs": [
    {
     "name": "stdout",
     "output_type": "stream",
     "text": [
      "[1, 1, 500000004, 166666668, 41666667, 808333339, 301388891, 900198419, 487524805, 831947206]\n"
     ]
    }
   ],
   "source": [
    "invf = InverseFactor()\n",
    "invf.build()\n",
    "print(invf.invFac[:10])"
   ]
  },
  {
   "cell_type": "code",
   "execution_count": 11,
   "id": "31276fdc-77c4-4aed-b0d0-4456bac3a223",
   "metadata": {},
   "outputs": [],
   "source": [
    "# max segment tree\n",
    "# build\n",
    "# range query\n",
    "# range update"
   ]
  },
  {
   "cell_type": "code",
   "execution_count": 12,
   "id": "ed302db5-9989-49e1-ba97-a32d0dd08769",
   "metadata": {},
   "outputs": [
    {
     "name": "stdout",
     "output_type": "stream",
     "text": [
      "6\n",
      "99\n"
     ]
    }
   ],
   "source": [
    "mxst = MaxSegmentTree([3, 5, 6, 8, 1, -1, 5123])\n",
    "print(mxst.query(0, 2))\n",
    "mxst.update(1, 1, 99)\n",
    "print(mxst.query(0, 2))"
   ]
  }
 ],
 "metadata": {
  "kernelspec": {
   "display_name": "Python 3 (ipykernel)",
   "language": "python",
   "name": "python3"
  },
  "language_info": {
   "codemirror_mode": {
    "name": "ipython",
    "version": 3
   },
   "file_extension": ".py",
   "mimetype": "text/x-python",
   "name": "python",
   "nbconvert_exporter": "python",
   "pygments_lexer": "ipython3",
   "version": "3.10.6"
  }
 },
 "nbformat": 4,
 "nbformat_minor": 5
}
